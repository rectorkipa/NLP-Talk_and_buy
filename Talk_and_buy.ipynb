{
 "cells": [
  {
   "cell_type": "markdown",
   "metadata": {
    "id": "zoCY80b7ob4Y"
   },
   "source": [
    "## Кривоногов Н.В., NLP, практическое задание № 16 - КУРСОВАЯ РАБОТА"
   ]
  },
  {
   "cell_type": "markdown",
   "metadata": {
    "id": "pvJXTGjYjgb5"
   },
   "source": [
    "### Создание чат-бота с тремя интентами: общение, покупки, уточнение запроса / непонимание запроса."
   ]
  },
  {
   "cell_type": "markdown",
   "metadata": {
    "id": "Bbvz7ijAWlMU"
   },
   "source": [
    "Ссылка на данный ноутбук в Colab:\n",
    "\n",
    "https://colab.research.google.com/drive/1xlabzTrza7ULRp_YND4_dKwyA52SJa3-?usp=sharing"
   ]
  },
  {
   "cell_type": "code",
   "execution_count": 1,
   "metadata": {
    "id": "O0YLBz5HZkXC"
   },
   "outputs": [],
   "source": [
    "# # Проверка версий установленных библиотек:\n",
    "\n",
    "# pip freeze"
   ]
  },
  {
   "cell_type": "markdown",
   "metadata": {
    "id": "Jo-lddH2pwCk"
   },
   "source": [
    "Установка и импорт библиотек:"
   ]
  },
  {
   "cell_type": "code",
   "execution_count": 1,
   "metadata": {
    "colab": {
     "base_uri": "https://localhost:8080/"
    },
    "id": "eB1Rrja9ZyED",
    "outputId": "d65f7080-460a-4ce2-8584-80161964bff5"
   },
   "outputs": [
    {
     "name": "stdout",
     "output_type": "stream",
     "text": [
      "Requirement already satisfied: python-telegram-bot==13.3 in /usr/local/lib/python3.10/dist-packages (13.3)\n",
      "Requirement already satisfied: certifi in /usr/local/lib/python3.10/dist-packages (from python-telegram-bot==13.3) (2023.7.22)\n",
      "Requirement already satisfied: tornado>=5.1 in /usr/local/lib/python3.10/dist-packages (from python-telegram-bot==13.3) (6.3.2)\n",
      "Requirement already satisfied: APScheduler==3.6.3 in /usr/local/lib/python3.10/dist-packages (from python-telegram-bot==13.3) (3.6.3)\n",
      "Requirement already satisfied: pytz>=2018.6 in /usr/local/lib/python3.10/dist-packages (from python-telegram-bot==13.3) (2023.3.post1)\n",
      "Requirement already satisfied: setuptools>=0.7 in /usr/local/lib/python3.10/dist-packages (from APScheduler==3.6.3->python-telegram-bot==13.3) (67.7.2)\n",
      "Requirement already satisfied: six>=1.4.0 in /usr/local/lib/python3.10/dist-packages (from APScheduler==3.6.3->python-telegram-bot==13.3) (1.16.0)\n",
      "Requirement already satisfied: tzlocal>=1.2 in /usr/local/lib/python3.10/dist-packages (from APScheduler==3.6.3->python-telegram-bot==13.3) (5.0.1)\n"
     ]
    }
   ],
   "source": [
    "!pip install python-telegram-bot==13.3"
   ]
  },
  {
   "cell_type": "code",
   "execution_count": 2,
   "metadata": {
    "colab": {
     "base_uri": "https://localhost:8080/"
    },
    "id": "ofclJHP_Z5tL",
    "outputId": "f9c72db2-be12-45a9-b462-f967564e0580"
   },
   "outputs": [
    {
     "name": "stdout",
     "output_type": "stream",
     "text": [
      "Requirement already satisfied: pymorphy2 in /usr/local/lib/python3.10/dist-packages (0.9.1)\n",
      "Requirement already satisfied: dawg-python>=0.7.1 in /usr/local/lib/python3.10/dist-packages (from pymorphy2) (0.7.2)\n",
      "Requirement already satisfied: pymorphy2-dicts-ru<3.0,>=2.4 in /usr/local/lib/python3.10/dist-packages (from pymorphy2) (2.4.417127.4579844)\n",
      "Requirement already satisfied: docopt>=0.6 in /usr/local/lib/python3.10/dist-packages (from pymorphy2) (0.6.2)\n"
     ]
    }
   ],
   "source": [
    "!pip install pymorphy2"
   ]
  },
  {
   "cell_type": "code",
   "execution_count": 3,
   "metadata": {
    "colab": {
     "base_uri": "https://localhost:8080/"
    },
    "id": "0KZ449anaA-E",
    "outputId": "92a8bbec-c42c-4883-ef6b-877c4347f4c6"
   },
   "outputs": [
    {
     "name": "stdout",
     "output_type": "stream",
     "text": [
      "Requirement already satisfied: stop_words in /usr/local/lib/python3.10/dist-packages (2018.7.23)\n"
     ]
    }
   ],
   "source": [
    "!pip install stop_words"
   ]
  },
  {
   "cell_type": "code",
   "execution_count": 4,
   "metadata": {
    "colab": {
     "base_uri": "https://localhost:8080/"
    },
    "id": "94kmDMckaKUM",
    "outputId": "e85c660b-4171-4e26-a3dc-b1d0880152ce"
   },
   "outputs": [
    {
     "name": "stdout",
     "output_type": "stream",
     "text": [
      "Requirement already satisfied: annoy in /usr/local/lib/python3.10/dist-packages (1.17.3)\n"
     ]
    }
   ],
   "source": [
    "!pip install annoy"
   ]
  },
  {
   "cell_type": "code",
   "execution_count": 5,
   "metadata": {
    "colab": {
     "base_uri": "https://localhost:8080/"
    },
    "id": "LXDcAMrtaUf_",
    "outputId": "7904eccb-b39f-436a-c70d-e9c5ef385c87"
   },
   "outputs": [
    {
     "name": "stdout",
     "output_type": "stream",
     "text": [
      "Requirement already satisfied: pandarallel in /usr/local/lib/python3.10/dist-packages (1.6.5)\n",
      "Requirement already satisfied: dill>=0.3.1 in /usr/local/lib/python3.10/dist-packages (from pandarallel) (0.3.7)\n",
      "Requirement already satisfied: pandas>=1 in /usr/local/lib/python3.10/dist-packages (from pandarallel) (1.5.3)\n",
      "Requirement already satisfied: psutil in /usr/local/lib/python3.10/dist-packages (from pandarallel) (5.9.5)\n",
      "Requirement already satisfied: python-dateutil>=2.8.1 in /usr/local/lib/python3.10/dist-packages (from pandas>=1->pandarallel) (2.8.2)\n",
      "Requirement already satisfied: pytz>=2020.1 in /usr/local/lib/python3.10/dist-packages (from pandas>=1->pandarallel) (2023.3.post1)\n",
      "Requirement already satisfied: numpy>=1.21.0 in /usr/local/lib/python3.10/dist-packages (from pandas>=1->pandarallel) (1.23.5)\n",
      "Requirement already satisfied: six>=1.5 in /usr/local/lib/python3.10/dist-packages (from python-dateutil>=2.8.1->pandas>=1->pandarallel) (1.16.0)\n"
     ]
    }
   ],
   "source": [
    "!pip install pandarallel"
   ]
  },
  {
   "cell_type": "code",
   "execution_count": 6,
   "metadata": {
    "colab": {
     "base_uri": "https://localhost:8080/"
    },
    "id": "xAhRcgdAVJzn",
    "outputId": "ebd7307c-5ec2-4e29-e40c-d0579e93ed1b"
   },
   "outputs": [
    {
     "name": "stdout",
     "output_type": "stream",
     "text": [
      "INFO: Pandarallel will run on 1 workers.\n",
      "INFO: Pandarallel will use Memory file system to transfer data between the main process and workers.\n"
     ]
    }
   ],
   "source": [
    "import os\n",
    "from telegram.ext  import Updater, CommandHandler, MessageHandler, Filters\n",
    "import string\n",
    "from pymorphy2 import MorphAnalyzer\n",
    "from stop_words import get_stop_words\n",
    "import annoy\n",
    "from gensim.models import Word2Vec, FastText\n",
    "import pickle\n",
    "import numpy as np\n",
    "from tqdm.notebook import tqdm\n",
    "import pandas as pd\n",
    "import pickle\n",
    "\n",
    "tqdm.pandas()\n",
    "\n",
    "from pandarallel import pandarallel\n",
    "pandarallel.initialize(progress_bar=True)"
   ]
  },
  {
   "cell_type": "code",
   "execution_count": 7,
   "metadata": {
    "id": "4QRr8AzPeawI"
   },
   "outputs": [],
   "source": [
    "from tqdm import tqdm, tqdm_notebook"
   ]
  },
  {
   "cell_type": "code",
   "execution_count": 8,
   "metadata": {
    "id": "Xqdp2ueyZkXD"
   },
   "outputs": [],
   "source": [
    "#.   RESTART KERNEL"
   ]
  },
  {
   "cell_type": "code",
   "execution_count": 9,
   "metadata": {
    "id": "r-FlhjKxZkXD"
   },
   "outputs": [],
   "source": [
    "import mmap\n",
    "import re\n",
    "\n",
    "def get_num_lines(file_path):\n",
    "    fp = open(file_path, \"r+\")\n",
    "    buf = mmap.mmap(fp.fileno(), 0)\n",
    "    lines = 0\n",
    "    while buf.readline():\n",
    "        lines += 1\n",
    "    return lines"
   ]
  },
  {
   "cell_type": "markdown",
   "metadata": {
    "id": "MsW7KshVp4Rq"
   },
   "source": [
    "Требуется скачать файл Otvety.txt по ссылке (1,72G):\n",
    "\n",
    "https://drive.google.com/file/d/1DQL9ybca4USImUDaxxHmkIZNmClKBtKG/view"
   ]
  },
  {
   "cell_type": "code",
   "execution_count": 11,
   "metadata": {
    "colab": {
     "base_uri": "https://localhost:8080/"
    },
    "id": "dxDoO1Zdaczj",
    "outputId": "aa79f3bd-3e2c-4ba1-aaf8-e404272a6458"
   },
   "outputs": [
    {
     "name": "stdout",
     "output_type": "stream",
     "text": [
      "Downloading...\n",
      "From: https://drive.google.com/uc?id=1DQL9ybca4USImUDaxxHmkIZNmClKBtKG\n",
      "To: /content/Otvety.txt\n",
      "100% 1.85G/1.85G [00:31<00:00, 58.7MB/s]\n"
     ]
    }
   ],
   "source": [
    "!gdown 1DQL9ybca4USImUDaxxHmkIZNmClKBtKG"
   ]
  },
  {
   "cell_type": "code",
   "execution_count": 12,
   "metadata": {
    "colab": {
     "base_uri": "https://localhost:8080/",
     "height": 101,
     "referenced_widgets": [
      "4da16617151c42a8975f794bc5649bab",
      "3f1c0ea9137c4c588c501a1086737acb",
      "462f71c5252047b39a7c995ddd584ff1",
      "25b1e670658346f7ad1a6f5ce370c90d",
      "72f1e993f4b04e239342e4e35b11fb32",
      "c29322029bca4fdc97368969f467e4bb",
      "e98e755506a241b78b14ccdb5ad82aa7",
      "d237745b11564e83b998697a5efad2b4",
      "4fba8d875b874035aef6788d235eaf5b",
      "a5cf5b829fdb48c5abe0704d4e968a6b",
      "5735935267d940dca286d2779dc46980"
     ]
    },
    "id": "JBnSQav-VJz6",
    "outputId": "8a388174-92da-46a3-a76d-436f41cfa9dd"
   },
   "outputs": [
    {
     "name": "stderr",
     "output_type": "stream",
     "text": [
      "<ipython-input-12-57a1df5c5b8e>:8: TqdmDeprecationWarning: This function will be removed in tqdm==5.0.0\n",
      "Please use `tqdm.notebook.tqdm` instead of `tqdm.tqdm_notebook`\n",
      "  for line in tqdm_notebook(fin):\n"
     ]
    },
    {
     "data": {
      "application/vnd.jupyter.widget-view+json": {
       "model_id": "4da16617151c42a8975f794bc5649bab",
       "version_major": 2,
       "version_minor": 0
      },
      "text/plain": [
       "0it [00:00, ?it/s]"
      ]
     },
     "metadata": {},
     "output_type": "display_data"
    }
   ],
   "source": [
    "# Преобразование скачанного файла вопросов-ответов в строчный вид:\n",
    "\n",
    "question = None\n",
    "written = False\n",
    "\n",
    "with open(\"prepared_answers.txt\", \"w\") as fout:\n",
    "    with open(\"/content/Otvety.txt\", \"r\") as fin:\n",
    "        for line in tqdm_notebook(fin):\n",
    "            if line.startswith(\"---\"):\n",
    "                written = False\n",
    "                continue\n",
    "            if not written and question is not None:\n",
    "                fout.write(question.replace(\"\\t\", \" \").strip() + \"\\t\" + line.replace(\"\\t\", \" \"))\n",
    "                written = True\n",
    "                question = None\n",
    "                continue\n",
    "            if not written:\n",
    "                question = line.strip()\n",
    "                continue"
   ]
  },
  {
   "cell_type": "code",
   "execution_count": 10,
   "metadata": {
    "id": "qNovia_FVJz7"
   },
   "outputs": [],
   "source": [
    "# Препроцессинг текста:\n",
    "\n",
    "def preprocess_txt(line):\n",
    "\n",
    "    line = re.sub('<[^<]+?>', '', line)\n",
    "    line = re.sub(r'http\\S+', '', line)\n",
    "    line = re.sub('[^а-яА-ЯёЁ0-9\\s]', '', line)\n",
    "    line = re.sub(r'[^\\w\\s]', '', line)\n",
    "\n",
    "    spls = \"\".join(i for i in line.strip() if i not in exclude).split()\n",
    "    spls = [morpher.parse(i.lower())[0].normal_form for i in spls]\n",
    "    spls = [i for i in spls if i not in sw and i != \"\"]\n",
    "\n",
    "    return spls"
   ]
  },
  {
   "cell_type": "code",
   "execution_count": 15,
   "metadata": {
    "colab": {
     "base_uri": "https://localhost:8080/"
    },
    "id": "uvwpdubYVJz8",
    "outputId": "5a989e04-7deb-4798-a644-9e988e235a7a"
   },
   "outputs": [
    {
     "name": "stderr",
     "output_type": "stream",
     "text": [
      "100%|██████████| 1163342/1163342 [6:19:09<00:00, 51.14it/s]\n"
     ]
    }
   ],
   "source": [
    "# Обработка текста:\n",
    "\n",
    "sentences = []\n",
    "morpher = MorphAnalyzer()\n",
    "sw = set(get_stop_words(\"ru\"))\n",
    "exclude = set(string.punctuation)\n",
    "c = 0\n",
    "\n",
    "file_path_from = 'prepared_answers.txt'\n",
    "file_path_to = 'Otvety2.txt'\n",
    "\n",
    "N = get_num_lines(file_path_from)\n",
    "with open(file_path_to, mode = 'w') as fileto:\n",
    "    with open(file_path_from) as filefrom:\n",
    "        for k in tqdm(range(N)):\n",
    "            line = filefrom.readline()\n",
    "            if line == '': break\n",
    "            spls = preprocess_txt(line)\n",
    "            sentences.append(spls)\n",
    "            c += 1\n",
    "            if c > 500000000:\n",
    "                break\n",
    "            fileto.write(' '.join(spls)+'\\n')\n",
    "filefrom.close()\n",
    "fileto.close()"
   ]
  },
  {
   "cell_type": "code",
   "execution_count": null,
   "metadata": {
    "id": "D9j4Jm_1HaM8"
   },
   "outputs": [],
   "source": []
  },
  {
   "cell_type": "markdown",
   "metadata": {
    "id": "KkO8V1gEILg8"
   },
   "source": [
    "Ссылка на уже подготовленный файл Otvety2.txt:\n",
    "\n",
    "https://drive.google.com/file/d/1xP-DU3qJTTUP12nAt64YGyeltQ0bss7F/view?usp=sharing"
   ]
  },
  {
   "cell_type": "code",
   "execution_count": 11,
   "metadata": {
    "colab": {
     "base_uri": "https://localhost:8080/"
    },
    "id": "JEktzg-iIN5T",
    "outputId": "158887ec-96d8-4e4b-8f08-524b1eba046d"
   },
   "outputs": [
    {
     "name": "stdout",
     "output_type": "stream",
     "text": [
      "Downloading...\n",
      "From: https://drive.google.com/uc?id=1xP-DU3qJTTUP12nAt64YGyeltQ0bss7F\n",
      "To: /content/Otvety2.zip\n",
      "100% 186M/186M [00:03<00:00, 50.2MB/s]\n"
     ]
    }
   ],
   "source": [
    "# !gdown 1xP-DU3qJTTUP12nAt64YGyeltQ0bss7F"
   ]
  },
  {
   "cell_type": "code",
   "execution_count": 12,
   "metadata": {
    "colab": {
     "base_uri": "https://localhost:8080/"
    },
    "id": "302tDkAXIU5D",
    "outputId": "1be643d8-34b2-45b0-923c-7cb569346239"
   },
   "outputs": [
    {
     "name": "stdout",
     "output_type": "stream",
     "text": [
      "Archive:  /content/Otvety2.zip\n",
      "replace Otvety2.txt? [y]es, [n]o, [A]ll, [N]one, [r]ename: y\n",
      "  inflating: Otvety2.txt             \n"
     ]
    }
   ],
   "source": [
    "# !unzip '/content/Otvety2.zip'"
   ]
  },
  {
   "cell_type": "code",
   "execution_count": 13,
   "metadata": {
    "colab": {
     "base_uri": "https://localhost:8080/"
    },
    "id": "0Jev01W4ZkXF",
    "outputId": "d75b102a-aadd-441f-9217-1af36fecb5fa"
   },
   "outputs": [
    {
     "name": "stderr",
     "output_type": "stream",
     "text": [
      "100%|██████████| 1163342/1163342 [00:25<00:00, 45167.87it/s]\n"
     ]
    }
   ],
   "source": [
    "# Загрузка результата:\n",
    "\n",
    "sentences = []\n",
    "\n",
    "file_path_from = '/content/Otvety2.txt'\n",
    "#file_path_to = 'Otvety2.txt'\n",
    "\n",
    "N = get_num_lines(file_path_from)\n",
    "with open(file_path_to, mode = 'r') as filefrom:\n",
    "    for k in tqdm(range(N)):\n",
    "        line = filefrom.readline()\n",
    "        if line == '': break\n",
    "        sentences.append(line.split())\n",
    "filefrom.close()"
   ]
  },
  {
   "cell_type": "code",
   "execution_count": 14,
   "metadata": {
    "colab": {
     "base_uri": "https://localhost:8080/"
    },
    "id": "ZosZmYdAZkXF",
    "outputId": "526ddb92-6dd8-490d-c4c3-280bebd1a5ce"
   },
   "outputs": [
    {
     "data": {
      "text/plain": [
       "['активный',\n",
       " 'актуальный',\n",
       " 'актёр',\n",
       " 'алгоритм',\n",
       " 'аллизантин',\n",
       " 'аллисата',\n",
       " 'аллицин',\n",
       " 'альбом',\n",
       " 'американский',\n",
       " 'аммиак']"
      ]
     },
     "execution_count": 14,
     "metadata": {},
     "output_type": "execute_result"
    }
   ],
   "source": [
    "vec = []\n",
    "_ = [vec.extend(x)  for x in sentences[:100]]\n",
    "vec = list(set(vec))\n",
    "vec.sort()\n",
    "vec[100:110]"
   ]
  },
  {
   "cell_type": "code",
   "execution_count": 15,
   "metadata": {
    "colab": {
     "base_uri": "https://localhost:8080/"
    },
    "id": "xgoxSD58ZkXF",
    "outputId": "a9b2ae1d-ea8f-4972-8164-40d75fe069e9"
   },
   "outputs": [
    {
     "data": {
      "text/plain": [
       "[['вопрос', 'тдв', 'отдыхать', 'лично', 'советовать', 'завести'],\n",
       " ['парень',\n",
       "  'относиться',\n",
       "  'цветной',\n",
       "  'линза',\n",
       "  'девушка',\n",
       "  'зелёный',\n",
       "  'глаз',\n",
       "  'голубой',\n",
       "  'вобщий',\n",
       "  'прикалывать',\n",
       "  'тема'],\n",
       " ['делать',\n",
       "  'найти',\n",
       "  '2',\n",
       "  'миллион',\n",
       "  'рубль',\n",
       "  'счастие',\n",
       "  'свалиться',\n",
       "  'хороший',\n",
       "  'пойти',\n",
       "  'милиция',\n",
       "  'заявить',\n",
       "  'находка',\n",
       "  'деньга',\n",
       "  'тероть',\n",
       "  'самый',\n",
       "  'интересный',\n",
       "  'неприменный',\n",
       "  'искать',\n",
       "  'поверьте',\n",
       "  'найти',\n",
       "  'видеть',\n",
       "  'подобный',\n",
       "  'нарваться',\n",
       "  'бабушка',\n",
       "  'помочий',\n",
       "  'внук',\n",
       "  'покупка',\n",
       "  'квартира',\n",
       "  'бандит',\n",
       "  'разговаривать',\n",
       "  'иначе',\n",
       "  'бабушка',\n",
       "  'милиция',\n",
       "  'выбор',\n",
       "  'шанс',\n",
       "  'подарок',\n",
       "  'выше',\n",
       "  'котрый',\n",
       "  'никто',\n",
       "  'спросить',\n",
       "  'хороший',\n",
       "  'отдать',\n",
       "  'хотяб',\n",
       "  '500',\n",
       "  'благотворительность',\n",
       "  'дабы',\n",
       "  'спугнуть',\n",
       "  'удача'],\n",
       " ['эбу',\n",
       "  'двенашка',\n",
       "  'называться',\n",
       "  'итэлма',\n",
       "  'эбу',\n",
       "  'эбу',\n",
       "  'электронный',\n",
       "  'блок',\n",
       "  'управление',\n",
       "  'двигатель',\n",
       "  'автомобиль',\n",
       "  'название',\n",
       "  'контроллер',\n",
       "  'принимать',\n",
       "  'информация',\n",
       "  'датчик',\n",
       "  'обрабатывать',\n",
       "  'особый',\n",
       "  'алгоритм',\n",
       "  'отталкиваться',\n",
       "  'получить',\n",
       "  'данные',\n",
       "  'отдавать',\n",
       "  'команда',\n",
       "  'исполнительный',\n",
       "  'устройство',\n",
       "  'система'],\n",
       " ['академия',\n",
       "  'вампир',\n",
       "  'даный',\n",
       "  'момент',\n",
       "  'часть',\n",
       "  'книга',\n",
       "  'академия',\n",
       "  'вампир',\n",
       "  '4',\n",
       "  'охотник',\n",
       "  'жертва',\n",
       "  'ледяной',\n",
       "  'укус',\n",
       "  'поцелуй',\n",
       "  'тьма',\n",
       "  'кровный',\n",
       "  'клятва'],\n",
       " ['защититься',\n",
       "  'энергетический',\n",
       "  'вампир',\n",
       "  'защита',\n",
       "  'мысль',\n",
       "  'должный',\n",
       "  'отношение',\n",
       "  'вампир',\n",
       "  'взять',\n",
       "  'правило',\n",
       "  'страшный',\n",
       "  'серый',\n",
       "  'волк',\n",
       "  'знать',\n",
       "  'конкретный',\n",
       "  'серый',\n",
       "  'волк',\n",
       "  'вампир',\n",
       "  'существовать',\n",
       "  'воспринимать',\n",
       "  'следовать',\n",
       "  'хищник',\n",
       "  'добрый',\n",
       "  'домашний',\n",
       "  'собачка',\n",
       "  'собачка',\n",
       "  'быстро',\n",
       "  'почувствовать',\n",
       "  'поле',\n",
       "  'ягода',\n",
       "  'быстро',\n",
       "  'отстать',\n",
       "  'витание',\n",
       "  'облако',\n",
       "  'хороший',\n",
       "  'способ',\n",
       "  'мысленно',\n",
       "  'представить',\n",
       "  'находиться',\n",
       "  'окружение',\n",
       "  'приятный',\n",
       "  'ощущение',\n",
       "  'белый',\n",
       "  'облако',\n",
       "  'синеголубой',\n",
       "  'небо',\n",
       "  'эффективно',\n",
       "  'подкормка',\n",
       "  'негатив',\n",
       "  'вампир',\n",
       "  'кушать',\n",
       "  'дать',\n",
       "  'собрать',\n",
       "  'плохой',\n",
       "  'мысль',\n",
       "  'эмоция',\n",
       "  'отрицательный',\n",
       "  'какимтый',\n",
       "  'образ',\n",
       "  'закрасться',\n",
       "  'организм',\n",
       "  'тяжесть',\n",
       "  'отдать',\n",
       "  'вампир',\n",
       "  'пусть',\n",
       "  'подавиться',\n",
       "  'зеркало',\n",
       "  'встреча',\n",
       "  'общение',\n",
       "  'неприятный',\n",
       "  'мысленно',\n",
       "  'представить',\n",
       "  'зеркальный',\n",
       "  'стена',\n",
       "  'обратить',\n",
       "  'отражать',\n",
       "  'поверхность',\n",
       "  'дикобраз',\n",
       "  'способ',\n",
       "  'выглядеть',\n",
       "  'следующий',\n",
       "  'образ',\n",
       "  'почувствовать',\n",
       "  'опасность',\n",
       "  'мысленно',\n",
       "  'покрывать',\n",
       "  'свой',\n",
       "  'биополе',\n",
       "  'игла',\n",
       "  'шип',\n",
       "  'энергетический',\n",
       "  'вампир',\n",
       "  'попробовать',\n",
       "  'высосать',\n",
       "  'биоэнергия',\n",
       "  'ощущать',\n",
       "  'боль',\n",
       "  'прикосновение',\n",
       "  'биополе',\n",
       "  'замыкание',\n",
       "  'контур',\n",
       "  'биополе',\n",
       "  'существовать',\n",
       "  'способ',\n",
       "  'выбирать',\n",
       "  'удобный',\n",
       "  'способ',\n",
       "  'заключаться',\n",
       "  'скрещивание',\n",
       "  'нога',\n",
       "  'рука',\n",
       "  'общение',\n",
       "  'ждать',\n",
       "  'неприятность',\n",
       "  'способ',\n",
       "  'заключаться',\n",
       "  'следующий',\n",
       "  'большой',\n",
       "  'указательный',\n",
       "  'палец',\n",
       "  'рука',\n",
       "  'соединить',\n",
       "  'больший',\n",
       "  'указательный',\n",
       "  'палец',\n",
       "  'рука',\n",
       "  'образовать',\n",
       "  'кольцо',\n",
       "  'остальной',\n",
       "  'палец',\n",
       "  'рука',\n",
       "  'наложить',\n",
       "  'друг',\n",
       "  'друг',\n",
       "  'способ',\n",
       "  'эффективный',\n",
       "  'благодаря',\n",
       "  'замыкаться',\n",
       "  'контур',\n",
       "  'биополе',\n",
       "  'оставлять',\n",
       "  'пробоина',\n",
       "  'энергетический',\n",
       "  'вампир',\n",
       "  'пробиться',\n",
       "  'защита',\n",
       "  'вытянуть',\n",
       "  'биоэнергия',\n",
       "  'приём',\n",
       "  'делать',\n",
       "  'незаметно',\n",
       "  'демонстрировать',\n",
       "  'свой',\n",
       "  'действие',\n",
       "  'привлекать',\n",
       "  'внимание',\n",
       "  'окружающий'],\n",
       " ['выращивать',\n",
       "  'магнолия',\n",
       "  'открытый',\n",
       "  'грунт',\n",
       "  'средний',\n",
       "  'полоса',\n",
       "  'россия',\n",
       "  'вид',\n",
       "  'сорт',\n",
       "  'зимовать',\n",
       "  'укрытие',\n",
       "  'укрытие',\n",
       "  'цвести',\n",
       "  'магнолия',\n",
       "  'каков',\n",
       "  'размер',\n",
       "  'дерево',\n",
       "  'особенность',\n",
       "  'выращивание',\n",
       "  'указывать',\n",
       "  'ответ',\n",
       "  'регион',\n",
       "  'прикреплять',\n",
       "  'фото',\n",
       "  'выращивать',\n",
       "  'хабаровск',\n",
       "  'дв',\n",
       "  'кратец',\n",
       "  'прочитать',\n",
       "  'сайт',\n",
       "  'метод',\n",
       "  'выращивание',\n",
       "  'магнолия',\n",
       "  'средний',\n",
       "  'полоса',\n",
       "  'купить',\n",
       "  'черенок',\n",
       "  'растение',\n",
       "  '34',\n",
       "  'выращиваться',\n",
       "  'кадочный',\n",
       "  'растение',\n",
       "  'роза',\n",
       "  'лето',\n",
       "  'улица',\n",
       "  'зима',\n",
       "  'погреб',\n",
       "  'прохладный',\n",
       "  'помещение',\n",
       "  'тип',\n",
       "  'холодильник',\n",
       "  'весна',\n",
       "  'весна',\n",
       "  'сад',\n",
       "  'нарастить',\n",
       "  'мощный',\n",
       "  'корневой',\n",
       "  'система',\n",
       "  '34',\n",
       "  'высаживать',\n",
       "  'грунт',\n",
       "  'зима',\n",
       "  'укрывать',\n",
       "  'возможность',\n",
       "  '1',\n",
       "  'растить',\n",
       "  'сорт',\n",
       "  'магнолия'],\n",
       " ['отформатировать',\n",
       "  'диск',\n",
       "  'дос',\n",
       "  'формат',\n",
       "  'команда',\n",
       "  'жёсткий',\n",
       "  'диск',\n",
       "  'найти',\n",
       "  'скачать',\n",
       "  'программа',\n",
       "  'акронис',\n",
       "  'диск',\n",
       "  'директор',\n",
       "  'загрузочный',\n",
       "  'версия'],\n",
       " ['относиться',\n",
       "  'парикмахер',\n",
       "  'работать',\n",
       "  'дом',\n",
       "  'помешать',\n",
       "  'например',\n",
       "  'присутствие',\n",
       "  'дом',\n",
       "  'ребёнок',\n",
       "  'муж',\n",
       "  'нормально',\n",
       "  'мыть',\n",
       "  'голова',\n",
       "  'ванная',\n",
       "  'рак',\n",
       "  'профессионал',\n",
       "  'нетглавное',\n",
       "  'остаться',\n",
       "  'довольный',\n",
       "  'результатомситуация',\n",
       "  'разный',\n",
       "  'бываютмочь',\n",
       "  'мамочка',\n",
       "  'декретемочь',\n",
       "  'выгодный',\n",
       "  'работать',\n",
       "  'себябез',\n",
       "  'аренда',\n",
       "  'вкусностейд',\n",
       "  'правило',\n",
       "  'цена',\n",
       "  'услуга',\n",
       "  'нижеа',\n",
       "  'общение',\n",
       "  'свободнейможный',\n",
       "  'получить',\n",
       "  'хороший',\n",
       "  'друг',\n",
       "  'собеседник'],\n",
       " ['кошка', 'олег', 'видеть', 'олег', 'стать', 'кот']]"
      ]
     },
     "execution_count": 15,
     "metadata": {},
     "output_type": "execute_result"
    }
   ],
   "source": [
    "sentences[:10]"
   ]
  },
  {
   "cell_type": "code",
   "execution_count": 16,
   "metadata": {
    "colab": {
     "base_uri": "https://localhost:8080/"
    },
    "id": "8YjCiT9wS7lK",
    "outputId": "d903774e-781a-40a3-eea2-5c65cdb89818"
   },
   "outputs": [
    {
     "data": {
      "text/plain": [
       "1163342"
      ]
     },
     "execution_count": 16,
     "metadata": {},
     "output_type": "execute_result"
    }
   ],
   "source": [
    "len(sentences)"
   ]
  },
  {
   "cell_type": "code",
   "execution_count": 17,
   "metadata": {
    "id": "Pmm0_riGSNrx"
   },
   "outputs": [],
   "source": [
    "sentences = sentences[:500000]"
   ]
  },
  {
   "cell_type": "code",
   "execution_count": 18,
   "metadata": {
    "id": "oGy9wDbDTDGv"
   },
   "outputs": [],
   "source": [
    "# len(sentences)"
   ]
  },
  {
   "cell_type": "code",
   "execution_count": 19,
   "metadata": {
    "colab": {
     "base_uri": "https://localhost:8080/"
    },
    "id": "zwXvXkJBVJ0B",
    "outputId": "1fff444d-6a30-4457-b0e4-5f6b8a4786bc"
   },
   "outputs": [
    {
     "name": "stderr",
     "output_type": "stream",
     "text": [
      "100%|██████████| 500000/500000 [00:01<00:00, 377234.94it/s]\n"
     ]
    }
   ],
   "source": [
    "# Обучение модели FastText:\n",
    "\n",
    "file_path_from = 'ft_model'\n",
    "\n",
    "sentences = [i for i in tqdm(sentences) if len(i) > 2]\n",
    "modelFT = FastText(sentences=sentences, vector_size=100, min_count=1, window=5)\n",
    "modelFT.save(\"ft_model\")"
   ]
  },
  {
   "cell_type": "code",
   "execution_count": 25,
   "metadata": {
    "id": "AFQ1NEI6ZkXF"
   },
   "outputs": [],
   "source": [
    "# Загрузка модели:\n",
    "\n",
    "# modelFT = FastText.load(\"ft_model\")\n",
    "# ft_index = annoy.AnnoyIndex(100 ,'angular')"
   ]
  },
  {
   "cell_type": "code",
   "execution_count": 25,
   "metadata": {
    "id": "eXDDQ-XLZkXG"
   },
   "outputs": [],
   "source": []
  },
  {
   "cell_type": "code",
   "execution_count": 26,
   "metadata": {
    "id": "e7vFtQq6ZkXG"
   },
   "outputs": [],
   "source": [
    "#Размерность вектора модели. Если установить 100 — каждое слово в корпусе будет представлено в виде 100-мерного вектора и т.п.\n",
    "#Наименьшее допустимое количество символов в слове, для которого будет создаваться векторное представление: так можно убрать частотные, но не очень значимые слова, типа союзов и предлогов.\n",
    "#Размер окна. Этот параметр задает, сколько соседних слов считается частью контекста. Если выставить 40, то алгоритм возьмет 40 слов спереди от слова и 40 слов сзади от слова."
   ]
  },
  {
   "cell_type": "code",
   "execution_count": 20,
   "metadata": {
    "colab": {
     "base_uri": "https://localhost:8080/"
    },
    "id": "FQ47vD_AZkXG",
    "outputId": "e830f327-9a16-43f2-a2bd-6d1fbd65d6ca"
   },
   "outputs": [
    {
     "data": {
      "text/plain": [
       "['своей',\n",
       " 'ними',\n",
       " 'одиннадцатый',\n",
       " 'шесть',\n",
       " 'он',\n",
       " 'свое',\n",
       " 'то',\n",
       " 'твой',\n",
       " 'просто',\n",
       " 'вся',\n",
       " 'мною',\n",
       " 'нем',\n",
       " 'вот',\n",
       " 'саму',\n",
       " 'недавно',\n",
       " 'довольно',\n",
       " 'никогда',\n",
       " 'стал',\n",
       " 'раньше',\n",
       " 'наиболее']"
      ]
     },
     "execution_count": 20,
     "metadata": {},
     "output_type": "execute_result"
    }
   ],
   "source": [
    "list(set(get_stop_words(\"ru\")))[:20]"
   ]
  },
  {
   "cell_type": "code",
   "execution_count": 22,
   "metadata": {
    "colab": {
     "base_uri": "https://localhost:8080/"
    },
    "id": "1N9V-gy0ZkXG",
    "outputId": "8cfd2097-6a80-4c03-d1a5-63d6566a9395"
   },
   "outputs": [
    {
     "name": "stderr",
     "output_type": "stream",
     "text": [
      "50000it [07:22, 112.88it/s]\n"
     ]
    }
   ],
   "source": [
    "# Создание индексов для вопросов-ответов:\n",
    "\n",
    "file_path_from = 'speaker.ann'\n",
    "\n",
    "morpher = MorphAnalyzer()\n",
    "sw = set(get_stop_words(\"ru\"))\n",
    "exclude = set(string.punctuation)\n",
    "modelFT = FastText.load(\"ft_model\")\n",
    "ft_index = annoy.AnnoyIndex(100 ,'angular')\n",
    "\n",
    "index_map = {}\n",
    "counter = 0\n",
    "\n",
    "with open(\"Otvety2.txt\", \"r\") as f:\n",
    "    for line in tqdm(f):\n",
    "        n_ft = 0\n",
    "        spls = line.split(\"\\t\")\n",
    "        index_map[counter] = spls[0]\n",
    "        question = preprocess_txt(spls[0])\n",
    "        vector_ft = np.zeros(100)\n",
    "        for word in question:\n",
    "            if word in modelFT.wv:\n",
    "                vector_ft += modelFT.wv[word]\n",
    "                n_ft += 1\n",
    "        if n_ft > 0:\n",
    "            vector_ft = vector_ft / n_ft\n",
    "        ft_index.add_item(counter, vector_ft)\n",
    "\n",
    "        counter += 1\n",
    "\n",
    "        if counter > 50_000:\n",
    "            break\n",
    "\n",
    "ft_index.build(10)\n",
    "ft_index.save('speaker.ann')\n",
    "\n",
    "with open(\"index_speaker.pkl\", \"wb\") as f:\n",
    "    pickle.dump(index_map, f)"
   ]
  },
  {
   "cell_type": "code",
   "execution_count": null,
   "metadata": {
    "id": "Vdj575QzZkXG"
   },
   "outputs": [],
   "source": []
  },
  {
   "cell_type": "code",
   "execution_count": 23,
   "metadata": {
    "id": "ofHcj4W8VJ0E"
   },
   "outputs": [],
   "source": [
    "#  Загрузка индексов:\n",
    "\n",
    "ft_index = annoy.AnnoyIndex(100, 'angular')\n",
    "ft_index.load('speaker.ann')\n",
    "index_map = pd.read_pickle(\"index_speaker.pkl\")"
   ]
  },
  {
   "cell_type": "code",
   "execution_count": 24,
   "metadata": {
    "id": "gF10bjcVsMFs"
   },
   "outputs": [],
   "source": []
  },
  {
   "cell_type": "markdown",
   "metadata": {
    "id": "7jr10Oaerw_k"
   },
   "source": [
    "Требуется скачать файл ProductsDataset.csv по ссылке (16M):\n",
    "\n",
    "https://gbcdn.mrgcdn.ru/uploads/asset/5209459/attachment/1b2f5aa57ff77e7c2d2ee26ceb09eb9e.csv"
   ]
  },
  {
   "cell_type": "code",
   "execution_count": 25,
   "metadata": {
    "colab": {
     "base_uri": "https://localhost:8080/"
    },
    "id": "HEQboBT0ZkXG",
    "outputId": "dfcdf667-4598-4c59-bfbe-3aa146711b84"
   },
   "outputs": [
    {
     "name": "stdout",
     "output_type": "stream",
     "text": [
      "Downloading...\n",
      "From: https://gbcdn.mrgcdn.ru/uploads/asset/5209459/attachment/1b2f5aa57ff77e7c2d2ee26ceb09eb9e.csv\n",
      "To: /content/1b2f5aa57ff77e7c2d2ee26ceb09eb9e.csv\n",
      "100% 16.4M/16.4M [00:06<00:00, 2.42MB/s]\n"
     ]
    }
   ],
   "source": [
    "!gdown https://gbcdn.mrgcdn.ru/uploads/asset/5209459/attachment/1b2f5aa57ff77e7c2d2ee26ceb09eb9e.csv"
   ]
  },
  {
   "cell_type": "code",
   "execution_count": 26,
   "metadata": {
    "colab": {
     "base_uri": "https://localhost:8080/",
     "height": 325,
     "referenced_widgets": [
      "a93eb26eadf04e278550795ec751ac23",
      "376bbeb5b14a4667a2cf6f8274958ba3",
      "12bdf5d65cb6497581ef5b1255cbd7bb",
      "5d180ba1bff9486e934209aba362759a",
      "2828a51807bb4c97b38e191db7fbccfd",
      "21f9eacea5f44f22bde305c6285e3b83",
      "03e1db3a90dc43e38031fbd4f98f2482",
      "9144fea46ae244ff8391cff4c9736e45",
      "6d4fe312181241b09315be7da520778a",
      "f7ed2cad1bbc41f69e29d72c52e1787a",
      "cb39074de2d442c294cb95f61e5babb9"
     ]
    },
    "id": "Z-qxfw70VJ0G",
    "outputId": "8ed3b720-1685-47f1-8f79-cd51040074da"
   },
   "outputs": [
    {
     "data": {
      "application/vnd.jupyter.widget-view+json": {
       "model_id": "a93eb26eadf04e278550795ec751ac23",
       "version_major": 2,
       "version_minor": 0
      },
      "text/plain": [
       "  0%|          | 0/35548 [00:00<?, ?it/s]"
      ]
     },
     "metadata": {},
     "output_type": "display_data"
    },
    {
     "data": {
      "text/html": [
       "\n",
       "  <div id=\"df-d631ccce-3901-40d2-937a-0ac1bb15c429\" class=\"colab-df-container\">\n",
       "    <div>\n",
       "<style scoped>\n",
       "    .dataframe tbody tr th:only-of-type {\n",
       "        vertical-align: middle;\n",
       "    }\n",
       "\n",
       "    .dataframe tbody tr th {\n",
       "        vertical-align: top;\n",
       "    }\n",
       "\n",
       "    .dataframe thead th {\n",
       "        text-align: right;\n",
       "    }\n",
       "</style>\n",
       "<table border=\"1\" class=\"dataframe\">\n",
       "  <thead>\n",
       "    <tr style=\"text-align: right;\">\n",
       "      <th></th>\n",
       "      <th>title</th>\n",
       "      <th>descrirption</th>\n",
       "      <th>product_id</th>\n",
       "      <th>category_id</th>\n",
       "      <th>subcategory_id</th>\n",
       "      <th>properties</th>\n",
       "      <th>image_links</th>\n",
       "      <th>text</th>\n",
       "    </tr>\n",
       "  </thead>\n",
       "  <tbody>\n",
       "    <tr>\n",
       "      <th>0</th>\n",
       "      <td>Юбка детская ORBY</td>\n",
       "      <td>Новая, не носили ни разу. В реале красивей чем...</td>\n",
       "      <td>58e3cfe6132ca50e053f5f82</td>\n",
       "      <td>22.0</td>\n",
       "      <td>2211</td>\n",
       "      <td>{'detskie_razmer_rost': '81-86 (1,5 года)'}</td>\n",
       "      <td>http://cache3.youla.io/files/images/360_360/58...</td>\n",
       "      <td>[юбка, детский, новый, носить, реал, красивый,...</td>\n",
       "    </tr>\n",
       "    <tr>\n",
       "      <th>1</th>\n",
       "      <td>Ботильоны</td>\n",
       "      <td>Новые,привезены из Чехии ,указан размер 40,но ...</td>\n",
       "      <td>5667531b2b7f8d127d838c34</td>\n",
       "      <td>9.0</td>\n",
       "      <td>902</td>\n",
       "      <td>{'zhenskaya_odezhda_tzvet': 'Зеленый', 'visota...</td>\n",
       "      <td>http://cache3.youla.io/files/images/360_360/5b...</td>\n",
       "      <td>[ботильон, новыепривезти, чехия, указать, разм...</td>\n",
       "    </tr>\n",
       "    <tr>\n",
       "      <th>2</th>\n",
       "      <td>Брюки</td>\n",
       "      <td>Размер 40-42. Брюки почти новые - не знаю как ...</td>\n",
       "      <td>59534826aaab284cba337e06</td>\n",
       "      <td>9.0</td>\n",
       "      <td>906</td>\n",
       "      <td>{'zhenskaya_odezhda_dzhinsy_bryuki_tip': 'Брюк...</td>\n",
       "      <td>http://cache3.youla.io/files/images/360_360/59...</td>\n",
       "      <td>[брюки, размер, 4042, брюки, новый, знать, мер...</td>\n",
       "    </tr>\n",
       "    <tr>\n",
       "      <th>3</th>\n",
       "      <td>Продам детские шапки</td>\n",
       "      <td>Продам шапки,кажда 200р.Розовая и белая проданны.</td>\n",
       "      <td>57de544096ad842e26de8027</td>\n",
       "      <td>22.0</td>\n",
       "      <td>2217</td>\n",
       "      <td>{'detskie_pol': 'Девочкам', 'detskaya_odezhda_...</td>\n",
       "      <td>http://cache3.youla.io/files/images/360_360/57...</td>\n",
       "      <td>[продать, детский, шапка, продать, шапкикажда,...</td>\n",
       "    </tr>\n",
       "    <tr>\n",
       "      <th>4</th>\n",
       "      <td>Блузка</td>\n",
       "      <td>Темно-синяя, 42 размер,состояние отличное,как ...</td>\n",
       "      <td>5ad4d2626c86cb168d212022</td>\n",
       "      <td>9.0</td>\n",
       "      <td>907</td>\n",
       "      <td>{'zhenskaya_odezhda_tzvet': 'Синий', 'zhenskay...</td>\n",
       "      <td>http://cache3.youla.io/files/images/360_360/5a...</td>\n",
       "      <td>[блузка, темносиний, 42, размерсостояние, отли...</td>\n",
       "    </tr>\n",
       "  </tbody>\n",
       "</table>\n",
       "</div>\n",
       "    <div class=\"colab-df-buttons\">\n",
       "\n",
       "  <div class=\"colab-df-container\">\n",
       "    <button class=\"colab-df-convert\" onclick=\"convertToInteractive('df-d631ccce-3901-40d2-937a-0ac1bb15c429')\"\n",
       "            title=\"Convert this dataframe to an interactive table.\"\n",
       "            style=\"display:none;\">\n",
       "\n",
       "  <svg xmlns=\"http://www.w3.org/2000/svg\" height=\"24px\" viewBox=\"0 -960 960 960\">\n",
       "    <path d=\"M120-120v-720h720v720H120Zm60-500h600v-160H180v160Zm220 220h160v-160H400v160Zm0 220h160v-160H400v160ZM180-400h160v-160H180v160Zm440 0h160v-160H620v160ZM180-180h160v-160H180v160Zm440 0h160v-160H620v160Z\"/>\n",
       "  </svg>\n",
       "    </button>\n",
       "\n",
       "  <style>\n",
       "    .colab-df-container {\n",
       "      display:flex;\n",
       "      gap: 12px;\n",
       "    }\n",
       "\n",
       "    .colab-df-convert {\n",
       "      background-color: #E8F0FE;\n",
       "      border: none;\n",
       "      border-radius: 50%;\n",
       "      cursor: pointer;\n",
       "      display: none;\n",
       "      fill: #1967D2;\n",
       "      height: 32px;\n",
       "      padding: 0 0 0 0;\n",
       "      width: 32px;\n",
       "    }\n",
       "\n",
       "    .colab-df-convert:hover {\n",
       "      background-color: #E2EBFA;\n",
       "      box-shadow: 0px 1px 2px rgba(60, 64, 67, 0.3), 0px 1px 3px 1px rgba(60, 64, 67, 0.15);\n",
       "      fill: #174EA6;\n",
       "    }\n",
       "\n",
       "    .colab-df-buttons div {\n",
       "      margin-bottom: 4px;\n",
       "    }\n",
       "\n",
       "    [theme=dark] .colab-df-convert {\n",
       "      background-color: #3B4455;\n",
       "      fill: #D2E3FC;\n",
       "    }\n",
       "\n",
       "    [theme=dark] .colab-df-convert:hover {\n",
       "      background-color: #434B5C;\n",
       "      box-shadow: 0px 1px 3px 1px rgba(0, 0, 0, 0.15);\n",
       "      filter: drop-shadow(0px 1px 2px rgba(0, 0, 0, 0.3));\n",
       "      fill: #FFFFFF;\n",
       "    }\n",
       "  </style>\n",
       "\n",
       "    <script>\n",
       "      const buttonEl =\n",
       "        document.querySelector('#df-d631ccce-3901-40d2-937a-0ac1bb15c429 button.colab-df-convert');\n",
       "      buttonEl.style.display =\n",
       "        google.colab.kernel.accessAllowed ? 'block' : 'none';\n",
       "\n",
       "      async function convertToInteractive(key) {\n",
       "        const element = document.querySelector('#df-d631ccce-3901-40d2-937a-0ac1bb15c429');\n",
       "        const dataTable =\n",
       "          await google.colab.kernel.invokeFunction('convertToInteractive',\n",
       "                                                    [key], {});\n",
       "        if (!dataTable) return;\n",
       "\n",
       "        const docLinkHtml = 'Like what you see? Visit the ' +\n",
       "          '<a target=\"_blank\" href=https://colab.research.google.com/notebooks/data_table.ipynb>data table notebook</a>'\n",
       "          + ' to learn more about interactive tables.';\n",
       "        element.innerHTML = '';\n",
       "        dataTable['output_type'] = 'display_data';\n",
       "        await google.colab.output.renderOutput(dataTable, element);\n",
       "        const docLink = document.createElement('div');\n",
       "        docLink.innerHTML = docLinkHtml;\n",
       "        element.appendChild(docLink);\n",
       "      }\n",
       "    </script>\n",
       "  </div>\n",
       "\n",
       "\n",
       "<div id=\"df-34c2e2c4-454e-4c09-ac18-b783152558db\">\n",
       "  <button class=\"colab-df-quickchart\" onclick=\"quickchart('df-34c2e2c4-454e-4c09-ac18-b783152558db')\"\n",
       "            title=\"Suggest charts.\"\n",
       "            style=\"display:none;\">\n",
       "\n",
       "<svg xmlns=\"http://www.w3.org/2000/svg\" height=\"24px\"viewBox=\"0 0 24 24\"\n",
       "     width=\"24px\">\n",
       "    <g>\n",
       "        <path d=\"M19 3H5c-1.1 0-2 .9-2 2v14c0 1.1.9 2 2 2h14c1.1 0 2-.9 2-2V5c0-1.1-.9-2-2-2zM9 17H7v-7h2v7zm4 0h-2V7h2v10zm4 0h-2v-4h2v4z\"/>\n",
       "    </g>\n",
       "</svg>\n",
       "  </button>\n",
       "\n",
       "<style>\n",
       "  .colab-df-quickchart {\n",
       "      --bg-color: #E8F0FE;\n",
       "      --fill-color: #1967D2;\n",
       "      --hover-bg-color: #E2EBFA;\n",
       "      --hover-fill-color: #174EA6;\n",
       "      --disabled-fill-color: #AAA;\n",
       "      --disabled-bg-color: #DDD;\n",
       "  }\n",
       "\n",
       "  [theme=dark] .colab-df-quickchart {\n",
       "      --bg-color: #3B4455;\n",
       "      --fill-color: #D2E3FC;\n",
       "      --hover-bg-color: #434B5C;\n",
       "      --hover-fill-color: #FFFFFF;\n",
       "      --disabled-bg-color: #3B4455;\n",
       "      --disabled-fill-color: #666;\n",
       "  }\n",
       "\n",
       "  .colab-df-quickchart {\n",
       "    background-color: var(--bg-color);\n",
       "    border: none;\n",
       "    border-radius: 50%;\n",
       "    cursor: pointer;\n",
       "    display: none;\n",
       "    fill: var(--fill-color);\n",
       "    height: 32px;\n",
       "    padding: 0;\n",
       "    width: 32px;\n",
       "  }\n",
       "\n",
       "  .colab-df-quickchart:hover {\n",
       "    background-color: var(--hover-bg-color);\n",
       "    box-shadow: 0 1px 2px rgba(60, 64, 67, 0.3), 0 1px 3px 1px rgba(60, 64, 67, 0.15);\n",
       "    fill: var(--button-hover-fill-color);\n",
       "  }\n",
       "\n",
       "  .colab-df-quickchart-complete:disabled,\n",
       "  .colab-df-quickchart-complete:disabled:hover {\n",
       "    background-color: var(--disabled-bg-color);\n",
       "    fill: var(--disabled-fill-color);\n",
       "    box-shadow: none;\n",
       "  }\n",
       "\n",
       "  .colab-df-spinner {\n",
       "    border: 2px solid var(--fill-color);\n",
       "    border-color: transparent;\n",
       "    border-bottom-color: var(--fill-color);\n",
       "    animation:\n",
       "      spin 1s steps(1) infinite;\n",
       "  }\n",
       "\n",
       "  @keyframes spin {\n",
       "    0% {\n",
       "      border-color: transparent;\n",
       "      border-bottom-color: var(--fill-color);\n",
       "      border-left-color: var(--fill-color);\n",
       "    }\n",
       "    20% {\n",
       "      border-color: transparent;\n",
       "      border-left-color: var(--fill-color);\n",
       "      border-top-color: var(--fill-color);\n",
       "    }\n",
       "    30% {\n",
       "      border-color: transparent;\n",
       "      border-left-color: var(--fill-color);\n",
       "      border-top-color: var(--fill-color);\n",
       "      border-right-color: var(--fill-color);\n",
       "    }\n",
       "    40% {\n",
       "      border-color: transparent;\n",
       "      border-right-color: var(--fill-color);\n",
       "      border-top-color: var(--fill-color);\n",
       "    }\n",
       "    60% {\n",
       "      border-color: transparent;\n",
       "      border-right-color: var(--fill-color);\n",
       "    }\n",
       "    80% {\n",
       "      border-color: transparent;\n",
       "      border-right-color: var(--fill-color);\n",
       "      border-bottom-color: var(--fill-color);\n",
       "    }\n",
       "    90% {\n",
       "      border-color: transparent;\n",
       "      border-bottom-color: var(--fill-color);\n",
       "    }\n",
       "  }\n",
       "</style>\n",
       "\n",
       "  <script>\n",
       "    async function quickchart(key) {\n",
       "      const quickchartButtonEl =\n",
       "        document.querySelector('#' + key + ' button');\n",
       "      quickchartButtonEl.disabled = true;  // To prevent multiple clicks.\n",
       "      quickchartButtonEl.classList.add('colab-df-spinner');\n",
       "      try {\n",
       "        const charts = await google.colab.kernel.invokeFunction(\n",
       "            'suggestCharts', [key], {});\n",
       "      } catch (error) {\n",
       "        console.error('Error during call to suggestCharts:', error);\n",
       "      }\n",
       "      quickchartButtonEl.classList.remove('colab-df-spinner');\n",
       "      quickchartButtonEl.classList.add('colab-df-quickchart-complete');\n",
       "    }\n",
       "    (() => {\n",
       "      let quickchartButtonEl =\n",
       "        document.querySelector('#df-34c2e2c4-454e-4c09-ac18-b783152558db button');\n",
       "      quickchartButtonEl.style.display =\n",
       "        google.colab.kernel.accessAllowed ? 'block' : 'none';\n",
       "    })();\n",
       "  </script>\n",
       "</div>\n",
       "    </div>\n",
       "  </div>\n"
      ],
      "text/plain": [
       "                  title                                       descrirption  \\\n",
       "0     Юбка детская ORBY  Новая, не носили ни разу. В реале красивей чем...   \n",
       "1             Ботильоны  Новые,привезены из Чехии ,указан размер 40,но ...   \n",
       "2                 Брюки  Размер 40-42. Брюки почти новые - не знаю как ...   \n",
       "3  Продам детские шапки  Продам шапки,кажда 200р.Розовая и белая проданны.   \n",
       "4                Блузка  Темно-синяя, 42 размер,состояние отличное,как ...   \n",
       "\n",
       "                 product_id  category_id subcategory_id  \\\n",
       "0  58e3cfe6132ca50e053f5f82         22.0           2211   \n",
       "1  5667531b2b7f8d127d838c34          9.0            902   \n",
       "2  59534826aaab284cba337e06          9.0            906   \n",
       "3  57de544096ad842e26de8027         22.0           2217   \n",
       "4  5ad4d2626c86cb168d212022          9.0            907   \n",
       "\n",
       "                                          properties  \\\n",
       "0        {'detskie_razmer_rost': '81-86 (1,5 года)'}   \n",
       "1  {'zhenskaya_odezhda_tzvet': 'Зеленый', 'visota...   \n",
       "2  {'zhenskaya_odezhda_dzhinsy_bryuki_tip': 'Брюк...   \n",
       "3  {'detskie_pol': 'Девочкам', 'detskaya_odezhda_...   \n",
       "4  {'zhenskaya_odezhda_tzvet': 'Синий', 'zhenskay...   \n",
       "\n",
       "                                         image_links  \\\n",
       "0  http://cache3.youla.io/files/images/360_360/58...   \n",
       "1  http://cache3.youla.io/files/images/360_360/5b...   \n",
       "2  http://cache3.youla.io/files/images/360_360/59...   \n",
       "3  http://cache3.youla.io/files/images/360_360/57...   \n",
       "4  http://cache3.youla.io/files/images/360_360/5a...   \n",
       "\n",
       "                                                text  \n",
       "0  [юбка, детский, новый, носить, реал, красивый,...  \n",
       "1  [ботильон, новыепривезти, чехия, указать, разм...  \n",
       "2  [брюки, размер, 4042, брюки, новый, знать, мер...  \n",
       "3  [продать, детский, шапка, продать, шапкикажда,...  \n",
       "4  [блузка, темносиний, 42, размерсостояние, отли...  "
      ]
     },
     "execution_count": 26,
     "metadata": {},
     "output_type": "execute_result"
    }
   ],
   "source": [
    "# Создание модели продуктовых данных:\n",
    "\n",
    "shop_data = pd.read_csv(\"/content/1b2f5aa57ff77e7c2d2ee26ceb09eb9e.csv\")\n",
    "#shop_data = shop_data.iloc[:5000, :]\n",
    "\n",
    "shop_data['text'] = shop_data['title'] + \" \" + shop_data[\"descrirption\"]\n",
    "shop_data['text'] = shop_data['text'].progress_apply(lambda x: preprocess_txt(str(x)))\n",
    "shop_data.head()"
   ]
  },
  {
   "cell_type": "code",
   "execution_count": 26,
   "metadata": {
    "id": "PQOEHYhfZkXH"
   },
   "outputs": [],
   "source": []
  },
  {
   "cell_type": "code",
   "execution_count": 27,
   "metadata": {
    "id": "rqml_x5JVJ0H"
   },
   "outputs": [],
   "source": [
    "# Подготовка для создания модели по определению домена данных:\n",
    "\n",
    "from sklearn.feature_extraction.text import CountVectorizer\n",
    "from sklearn.linear_model import LogisticRegression\n",
    "\n",
    "vectorizer = CountVectorizer(ngram_range=(1, 2))"
   ]
  },
  {
   "cell_type": "code",
   "execution_count": 28,
   "metadata": {
    "colab": {
     "base_uri": "https://localhost:8080/"
    },
    "id": "Xfxh1xO9VJ0I",
    "outputId": "c6419782-595c-41f2-a343-62e24ccbf739"
   },
   "outputs": [
    {
     "name": "stderr",
     "output_type": "stream",
     "text": [
      "100%|██████████| 25456/25456 [03:30<00:00, 120.97it/s]\n",
      "100%|██████████| 35548/35548 [00:00<00:00, 621034.14it/s]\n"
     ]
    }
   ],
   "source": [
    "idxs = set(np.random.randint(0, len(index_map), len(shop_data)))\n",
    "\n",
    "# Вопрос-ответный домен:\n",
    "negative_texts = [\" \".join(preprocess_txt(index_map[i])) for i in tqdm(idxs)]\n",
    "\n",
    "# Продуктовый домен:\n",
    "positive_texts = [\" \".join(val) for val in tqdm(shop_data['text'].values)]"
   ]
  },
  {
   "cell_type": "code",
   "execution_count": 29,
   "metadata": {
    "id": "3ud68payVJ0J"
   },
   "outputs": [],
   "source": [
    "# ВО = 0, Прод = 1:\n",
    "\n",
    "dataset = negative_texts + positive_texts\n",
    "labels = np.zeros(len(dataset))\n",
    "labels[len(negative_texts):] = np.ones(len(positive_texts))"
   ]
  },
  {
   "cell_type": "code",
   "execution_count": 30,
   "metadata": {
    "id": "N_oxnOuzVJ0K"
   },
   "outputs": [],
   "source": [
    "from sklearn.model_selection import train_test_split\n",
    "\n",
    "X_train, X_test, y_train, y_test = train_test_split(dataset, labels, test_size=0.2,\n",
    "                                                    stratify=labels, random_state=13)"
   ]
  },
  {
   "cell_type": "code",
   "execution_count": 31,
   "metadata": {
    "id": "tNzqfsIZVJ0K"
   },
   "outputs": [],
   "source": [
    "# Модель:\n",
    "\n",
    "x_train_vec = vectorizer.fit_transform(X_train)\n",
    "x_test_vec = vectorizer.transform(X_test)\n",
    "\n",
    "lr = LogisticRegression().fit(x_train_vec, y_train)"
   ]
  },
  {
   "cell_type": "code",
   "execution_count": 32,
   "metadata": {
    "colab": {
     "base_uri": "https://localhost:8080/"
    },
    "id": "q_bWwksAVJ0L",
    "outputId": "97e5549a-baf0-4c22-cec3-43f46e69939d"
   },
   "outputs": [
    {
     "data": {
      "text/plain": [
       "0.9723793131710515"
      ]
     },
     "execution_count": 32,
     "metadata": {},
     "output_type": "execute_result"
    }
   ],
   "source": [
    "# Качество:\n",
    "\n",
    "from sklearn.metrics import accuracy_score\n",
    "accuracy_score(y_true=y_test, y_pred=lr.predict(x_test_vec))"
   ]
  },
  {
   "cell_type": "markdown",
   "metadata": {
    "id": "S1qy-JLXsbJp"
   },
   "source": [
    "Метрика достаточно высокая: модель должна хорошо распознавать и разделять домены (интенты)."
   ]
  },
  {
   "cell_type": "code",
   "execution_count": 44,
   "metadata": {
    "id": "23VbtYIiVJ0M"
   },
   "outputs": [],
   "source": []
  },
  {
   "cell_type": "code",
   "execution_count": 33,
   "metadata": {
    "id": "_4Q8b1saZkXP"
   },
   "outputs": [],
   "source": [
    "# Добавление IDF взвешивания (для каждого слова поиск IDF веса):"
   ]
  },
  {
   "cell_type": "code",
   "execution_count": 34,
   "metadata": {
    "id": "XFgbubh7VJ0N"
   },
   "outputs": [],
   "source": [
    "from sklearn.feature_extraction.text import TfidfVectorizer\n",
    "\n",
    "tfidf_vect = TfidfVectorizer().fit(X_train)"
   ]
  },
  {
   "cell_type": "code",
   "execution_count": 35,
   "metadata": {
    "colab": {
     "base_uri": "https://localhost:8080/"
    },
    "id": "yx8AkUiiVJ0N",
    "outputId": "cb7537b6-a7c4-40ec-a332-752284cfc7a2"
   },
   "outputs": [
    {
     "data": {
      "text/plain": [
       "10.691477561067922"
      ]
     },
     "execution_count": 35,
     "metadata": {},
     "output_type": "execute_result"
    }
   ],
   "source": [
    "np.mean(tfidf_vect.idf_)"
   ]
  },
  {
   "cell_type": "code",
   "execution_count": 36,
   "metadata": {
    "id": "aQQG_bluVJ0O"
   },
   "outputs": [],
   "source": [
    "idfs = {v[0]: v[1] for v in zip(tfidf_vect.vocabulary_, tfidf_vect.idf_)}"
   ]
  },
  {
   "cell_type": "code",
   "execution_count": 40,
   "metadata": {
    "colab": {
     "base_uri": "https://localhost:8080/"
    },
    "id": "JjWyFjJBVJ0P",
    "outputId": "a36cdb89-c389-4452-99e0-3ea44ff42089"
   },
   "outputs": [
    {
     "name": "stderr",
     "output_type": "stream",
     "text": [
      "100%|██████████| 35548/35548 [00:09<00:00, 3938.84it/s]\n"
     ]
    }
   ],
   "source": [
    "# Создание индексов для продуктовых данных:\n",
    "\n",
    "file_path_from = 'shop.ann'\n",
    "\n",
    "ft_index_shop = annoy.AnnoyIndex(100 ,'angular')\n",
    "\n",
    "midf = np.mean(tfidf_vect.idf_)\n",
    "\n",
    "index_map_shop = {}\n",
    "counter = 0\n",
    "\n",
    "for i in tqdm(range(len(shop_data))):\n",
    "    n_ft = 0\n",
    "    index_map_shop[counter] = (shop_data.loc[i, \"title\"], shop_data.loc[i, \"image_links\"])\n",
    "    vector_ft = np.zeros(100)\n",
    "    for word in shop_data.loc[i, \"text\"]:\n",
    "        if word in modelFT.wv:\n",
    "            vector_ft += modelFT.wv[word] * idfs.get(word, midf)\n",
    "            n_ft += idfs.get(word, midf)\n",
    "    if n_ft > 0:\n",
    "        vector_ft = vector_ft / n_ft\n",
    "    ft_index_shop.add_item(counter, vector_ft)\n",
    "    counter += 1\n",
    "\n",
    "ft_index_shop.build(10)\n",
    "ft_index_shop.save('shop.ann')\n",
    "\n",
    "file_path_from = 'index_shop.pkl'\n",
    "if not os.path.isfile(file_path_from):\n",
    "\n",
    "    with open(\"index_shop.pkl\", \"wb\") as f:\n",
    "        pickle.dump(index_map_shop, f)\n"
   ]
  },
  {
   "cell_type": "code",
   "execution_count": 41,
   "metadata": {
    "id": "bBNibUbJZkXQ"
   },
   "outputs": [],
   "source": [
    "# Загрузка индексов:\n",
    "\n",
    "midf = np.mean(tfidf_vect.idf_)\n",
    "\n",
    "ft_index_shop = annoy.AnnoyIndex(100, 'angular')\n",
    "ft_index_shop.load('shop.ann')\n",
    "\n",
    "index_map_shop = pd.read_pickle(\"index_shop.pkl\")"
   ]
  },
  {
   "cell_type": "code",
   "execution_count": 41,
   "metadata": {
    "id": "Iwnz2qFTVJ0Q"
   },
   "outputs": [],
   "source": []
  },
  {
   "cell_type": "code",
   "execution_count": 42,
   "metadata": {
    "id": "47tviu39VJ0Q"
   },
   "outputs": [],
   "source": [
    "# Основная функция преобразования текста в вектор х100:\n",
    "\n",
    "def embed_txt(txt, idfs, midf):\n",
    "    n_ft = 0\n",
    "    vector_ft = np.zeros(100)\n",
    "    for word in txt:\n",
    "        if word in modelFT.wv:\n",
    "            vector_ft += modelFT.wv[word] * idfs.get(word, midf)\n",
    "            n_ft += idfs.get(word, midf)\n",
    "    return vector_ft / n_ft"
   ]
  },
  {
   "cell_type": "code",
   "execution_count": 42,
   "metadata": {
    "id": "5wxihcOXt6-w"
   },
   "outputs": [],
   "source": []
  },
  {
   "cell_type": "code",
   "execution_count": 44,
   "metadata": {
    "colab": {
     "base_uri": "https://localhost:8080/"
    },
    "id": "B3sxuG-hVJ0S",
    "outputId": "e9f249f9-e059-4516-9b52-54a062dda406"
   },
   "outputs": [
    {
     "name": "stdout",
     "output_type": "stream",
     "text": [
      "0.8922566175460815\n",
      "0.514726459980011\n"
     ]
    },
    {
     "name": "stderr",
     "output_type": "stream",
     "text": [
      "<ipython-input-42-0363a892ecac>:10: RuntimeWarning: invalid value encountered in divide\n",
      "  return vector_ft / n_ft\n"
     ]
    },
    {
     "name": "stdout",
     "output_type": "stream",
     "text": [
      "0.514726459980011\n",
      "0.514726459980011\n"
     ]
    }
   ],
   "source": [
    "updater = Updater(\"6136908859:AAE3dLIWPojlz-Hhq7Pasjdj3qXykohOeJw\", use_context=True) # Токен API к Telegram\n",
    "dispatcher = updater.dispatcher\n",
    "\n",
    "def startCommand(update, context):\n",
    "    context.bot.send_message(chat_id=update.message.chat_id, text='Привет, я бот talk_and_buy. Я могу определить, что ты хочешь: поболтать или что-то купить. Давай пообщаемся?')\n",
    "\n",
    "def textMessage(update, context):\n",
    "\n",
    "    input_txt = preprocess_txt(update.message.text)\n",
    "    vect = vectorizer.transform([\" \".join(input_txt)])\n",
    "    prediction = lr.predict(vect)\n",
    "\n",
    "    # ПРОД\n",
    "    if prediction[0] == 1:\n",
    "        vect_ft = embed_txt(input_txt, idfs, midf)\n",
    "        ft_index_shop_val = ft_index_shop.get_nns_by_vector(vect_ft, 5)\n",
    "        for item in ft_index_shop_val:\n",
    "            title, image = index_map_shop[item]\n",
    "            context.bot.send_message(chat_id=update.message.chat_id, text=\"title: {} image: {}\".format(title, image))\n",
    "        return\n",
    "\n",
    "    # QA\n",
    "    vect_ft = embed_txt(input_txt, {}, 1)\n",
    "    ft_index_val, distances = ft_index.get_nns_by_vector(vect_ft, 1, include_distances=True)\n",
    "\n",
    "    #\n",
    "    if distances[0] <=0.9: #> 100.5: #<=0.9:\n",
    "        print(distances[0])\n",
    "        context.bot.send_message(chat_id=update.message.chat_id, text=\"Не понимаю... Спроси по-другому.\")\n",
    "        return\n",
    "\n",
    "    # Вопрос-Ответ\n",
    "    context.bot.send_message(chat_id=update.message.chat_id, text=index_map[ft_index_val[0]])\n",
    "\n",
    "start_command_handler = CommandHandler('start', startCommand)\n",
    "text_message_handler = MessageHandler(Filters.text, textMessage)\n",
    "dispatcher.add_handler(start_command_handler)\n",
    "dispatcher.add_handler(text_message_handler)\n",
    "updater.start_polling(clean=True)\n",
    "updater.idle()"
   ]
  },
  {
   "cell_type": "code",
   "execution_count": null,
   "metadata": {
    "id": "a2ParSl9ZkXR"
   },
   "outputs": [],
   "source": []
  },
  {
   "cell_type": "markdown",
   "metadata": {
    "id": "uZSQ-vlqSU8q"
   },
   "source": [
    "https://t.me/talk_and_buy_bot"
   ]
  },
  {
   "cell_type": "code",
   "execution_count": null,
   "metadata": {
    "id": "9WUonA36SaZf"
   },
   "outputs": [],
   "source": []
  }
 ],
 "metadata": {
  "colab": {
   "provenance": []
  },
  "kernelspec": {
   "display_name": "Python 3 (ipykernel)",
   "language": "python",
   "name": "python3"
  },
  "language_info": {
   "codemirror_mode": {
    "name": "ipython",
    "version": 3
   },
   "file_extension": ".py",
   "mimetype": "text/x-python",
   "name": "python",
   "nbconvert_exporter": "python",
   "pygments_lexer": "ipython3",
   "version": "3.10.9"
  },
  "widgets": {
   "application/vnd.jupyter.widget-state+json": {
    "03e1db3a90dc43e38031fbd4f98f2482": {
     "model_module": "@jupyter-widgets/controls",
     "model_module_version": "1.5.0",
     "model_name": "DescriptionStyleModel",
     "state": {
      "_model_module": "@jupyter-widgets/controls",
      "_model_module_version": "1.5.0",
      "_model_name": "DescriptionStyleModel",
      "_view_count": null,
      "_view_module": "@jupyter-widgets/base",
      "_view_module_version": "1.2.0",
      "_view_name": "StyleView",
      "description_width": ""
     }
    },
    "12bdf5d65cb6497581ef5b1255cbd7bb": {
     "model_module": "@jupyter-widgets/controls",
     "model_module_version": "1.5.0",
     "model_name": "FloatProgressModel",
     "state": {
      "_dom_classes": [],
      "_model_module": "@jupyter-widgets/controls",
      "_model_module_version": "1.5.0",
      "_model_name": "FloatProgressModel",
      "_view_count": null,
      "_view_module": "@jupyter-widgets/controls",
      "_view_module_version": "1.5.0",
      "_view_name": "ProgressView",
      "bar_style": "success",
      "description": "",
      "description_tooltip": null,
      "layout": "IPY_MODEL_9144fea46ae244ff8391cff4c9736e45",
      "max": 35548,
      "min": 0,
      "orientation": "horizontal",
      "style": "IPY_MODEL_6d4fe312181241b09315be7da520778a",
      "value": 35548
     }
    },
    "21f9eacea5f44f22bde305c6285e3b83": {
     "model_module": "@jupyter-widgets/base",
     "model_module_version": "1.2.0",
     "model_name": "LayoutModel",
     "state": {
      "_model_module": "@jupyter-widgets/base",
      "_model_module_version": "1.2.0",
      "_model_name": "LayoutModel",
      "_view_count": null,
      "_view_module": "@jupyter-widgets/base",
      "_view_module_version": "1.2.0",
      "_view_name": "LayoutView",
      "align_content": null,
      "align_items": null,
      "align_self": null,
      "border": null,
      "bottom": null,
      "display": null,
      "flex": null,
      "flex_flow": null,
      "grid_area": null,
      "grid_auto_columns": null,
      "grid_auto_flow": null,
      "grid_auto_rows": null,
      "grid_column": null,
      "grid_gap": null,
      "grid_row": null,
      "grid_template_areas": null,
      "grid_template_columns": null,
      "grid_template_rows": null,
      "height": null,
      "justify_content": null,
      "justify_items": null,
      "left": null,
      "margin": null,
      "max_height": null,
      "max_width": null,
      "min_height": null,
      "min_width": null,
      "object_fit": null,
      "object_position": null,
      "order": null,
      "overflow": null,
      "overflow_x": null,
      "overflow_y": null,
      "padding": null,
      "right": null,
      "top": null,
      "visibility": null,
      "width": null
     }
    },
    "25b1e670658346f7ad1a6f5ce370c90d": {
     "model_module": "@jupyter-widgets/controls",
     "model_module_version": "1.5.0",
     "model_name": "HTMLModel",
     "state": {
      "_dom_classes": [],
      "_model_module": "@jupyter-widgets/controls",
      "_model_module_version": "1.5.0",
      "_model_name": "HTMLModel",
      "_view_count": null,
      "_view_module": "@jupyter-widgets/controls",
      "_view_module_version": "1.5.0",
      "_view_name": "HTMLView",
      "description": "",
      "description_tooltip": null,
      "layout": "IPY_MODEL_a5cf5b829fdb48c5abe0704d4e968a6b",
      "placeholder": "​",
      "style": "IPY_MODEL_5735935267d940dca286d2779dc46980",
      "value": " 7550926/? [00:27&lt;00:00, 362330.59it/s]"
     }
    },
    "2828a51807bb4c97b38e191db7fbccfd": {
     "model_module": "@jupyter-widgets/base",
     "model_module_version": "1.2.0",
     "model_name": "LayoutModel",
     "state": {
      "_model_module": "@jupyter-widgets/base",
      "_model_module_version": "1.2.0",
      "_model_name": "LayoutModel",
      "_view_count": null,
      "_view_module": "@jupyter-widgets/base",
      "_view_module_version": "1.2.0",
      "_view_name": "LayoutView",
      "align_content": null,
      "align_items": null,
      "align_self": null,
      "border": null,
      "bottom": null,
      "display": null,
      "flex": null,
      "flex_flow": null,
      "grid_area": null,
      "grid_auto_columns": null,
      "grid_auto_flow": null,
      "grid_auto_rows": null,
      "grid_column": null,
      "grid_gap": null,
      "grid_row": null,
      "grid_template_areas": null,
      "grid_template_columns": null,
      "grid_template_rows": null,
      "height": null,
      "justify_content": null,
      "justify_items": null,
      "left": null,
      "margin": null,
      "max_height": null,
      "max_width": null,
      "min_height": null,
      "min_width": null,
      "object_fit": null,
      "object_position": null,
      "order": null,
      "overflow": null,
      "overflow_x": null,
      "overflow_y": null,
      "padding": null,
      "right": null,
      "top": null,
      "visibility": null,
      "width": null
     }
    },
    "376bbeb5b14a4667a2cf6f8274958ba3": {
     "model_module": "@jupyter-widgets/controls",
     "model_module_version": "1.5.0",
     "model_name": "HTMLModel",
     "state": {
      "_dom_classes": [],
      "_model_module": "@jupyter-widgets/controls",
      "_model_module_version": "1.5.0",
      "_model_name": "HTMLModel",
      "_view_count": null,
      "_view_module": "@jupyter-widgets/controls",
      "_view_module_version": "1.5.0",
      "_view_name": "HTMLView",
      "description": "",
      "description_tooltip": null,
      "layout": "IPY_MODEL_21f9eacea5f44f22bde305c6285e3b83",
      "placeholder": "​",
      "style": "IPY_MODEL_03e1db3a90dc43e38031fbd4f98f2482",
      "value": "100%"
     }
    },
    "3f1c0ea9137c4c588c501a1086737acb": {
     "model_module": "@jupyter-widgets/controls",
     "model_module_version": "1.5.0",
     "model_name": "HTMLModel",
     "state": {
      "_dom_classes": [],
      "_model_module": "@jupyter-widgets/controls",
      "_model_module_version": "1.5.0",
      "_model_name": "HTMLModel",
      "_view_count": null,
      "_view_module": "@jupyter-widgets/controls",
      "_view_module_version": "1.5.0",
      "_view_name": "HTMLView",
      "description": "",
      "description_tooltip": null,
      "layout": "IPY_MODEL_c29322029bca4fdc97368969f467e4bb",
      "placeholder": "​",
      "style": "IPY_MODEL_e98e755506a241b78b14ccdb5ad82aa7",
      "value": ""
     }
    },
    "462f71c5252047b39a7c995ddd584ff1": {
     "model_module": "@jupyter-widgets/controls",
     "model_module_version": "1.5.0",
     "model_name": "FloatProgressModel",
     "state": {
      "_dom_classes": [],
      "_model_module": "@jupyter-widgets/controls",
      "_model_module_version": "1.5.0",
      "_model_name": "FloatProgressModel",
      "_view_count": null,
      "_view_module": "@jupyter-widgets/controls",
      "_view_module_version": "1.5.0",
      "_view_name": "ProgressView",
      "bar_style": "success",
      "description": "",
      "description_tooltip": null,
      "layout": "IPY_MODEL_d237745b11564e83b998697a5efad2b4",
      "max": 1,
      "min": 0,
      "orientation": "horizontal",
      "style": "IPY_MODEL_4fba8d875b874035aef6788d235eaf5b",
      "value": 1
     }
    },
    "4da16617151c42a8975f794bc5649bab": {
     "model_module": "@jupyter-widgets/controls",
     "model_module_version": "1.5.0",
     "model_name": "HBoxModel",
     "state": {
      "_dom_classes": [],
      "_model_module": "@jupyter-widgets/controls",
      "_model_module_version": "1.5.0",
      "_model_name": "HBoxModel",
      "_view_count": null,
      "_view_module": "@jupyter-widgets/controls",
      "_view_module_version": "1.5.0",
      "_view_name": "HBoxView",
      "box_style": "",
      "children": [
       "IPY_MODEL_3f1c0ea9137c4c588c501a1086737acb",
       "IPY_MODEL_462f71c5252047b39a7c995ddd584ff1",
       "IPY_MODEL_25b1e670658346f7ad1a6f5ce370c90d"
      ],
      "layout": "IPY_MODEL_72f1e993f4b04e239342e4e35b11fb32"
     }
    },
    "4fba8d875b874035aef6788d235eaf5b": {
     "model_module": "@jupyter-widgets/controls",
     "model_module_version": "1.5.0",
     "model_name": "ProgressStyleModel",
     "state": {
      "_model_module": "@jupyter-widgets/controls",
      "_model_module_version": "1.5.0",
      "_model_name": "ProgressStyleModel",
      "_view_count": null,
      "_view_module": "@jupyter-widgets/base",
      "_view_module_version": "1.2.0",
      "_view_name": "StyleView",
      "bar_color": null,
      "description_width": ""
     }
    },
    "5735935267d940dca286d2779dc46980": {
     "model_module": "@jupyter-widgets/controls",
     "model_module_version": "1.5.0",
     "model_name": "DescriptionStyleModel",
     "state": {
      "_model_module": "@jupyter-widgets/controls",
      "_model_module_version": "1.5.0",
      "_model_name": "DescriptionStyleModel",
      "_view_count": null,
      "_view_module": "@jupyter-widgets/base",
      "_view_module_version": "1.2.0",
      "_view_name": "StyleView",
      "description_width": ""
     }
    },
    "5d180ba1bff9486e934209aba362759a": {
     "model_module": "@jupyter-widgets/controls",
     "model_module_version": "1.5.0",
     "model_name": "HTMLModel",
     "state": {
      "_dom_classes": [],
      "_model_module": "@jupyter-widgets/controls",
      "_model_module_version": "1.5.0",
      "_model_name": "HTMLModel",
      "_view_count": null,
      "_view_module": "@jupyter-widgets/controls",
      "_view_module_version": "1.5.0",
      "_view_name": "HTMLView",
      "description": "",
      "description_tooltip": null,
      "layout": "IPY_MODEL_f7ed2cad1bbc41f69e29d72c52e1787a",
      "placeholder": "​",
      "style": "IPY_MODEL_cb39074de2d442c294cb95f61e5babb9",
      "value": " 35548/35548 [02:56&lt;00:00, 247.98it/s]"
     }
    },
    "6d4fe312181241b09315be7da520778a": {
     "model_module": "@jupyter-widgets/controls",
     "model_module_version": "1.5.0",
     "model_name": "ProgressStyleModel",
     "state": {
      "_model_module": "@jupyter-widgets/controls",
      "_model_module_version": "1.5.0",
      "_model_name": "ProgressStyleModel",
      "_view_count": null,
      "_view_module": "@jupyter-widgets/base",
      "_view_module_version": "1.2.0",
      "_view_name": "StyleView",
      "bar_color": null,
      "description_width": ""
     }
    },
    "72f1e993f4b04e239342e4e35b11fb32": {
     "model_module": "@jupyter-widgets/base",
     "model_module_version": "1.2.0",
     "model_name": "LayoutModel",
     "state": {
      "_model_module": "@jupyter-widgets/base",
      "_model_module_version": "1.2.0",
      "_model_name": "LayoutModel",
      "_view_count": null,
      "_view_module": "@jupyter-widgets/base",
      "_view_module_version": "1.2.0",
      "_view_name": "LayoutView",
      "align_content": null,
      "align_items": null,
      "align_self": null,
      "border": null,
      "bottom": null,
      "display": null,
      "flex": null,
      "flex_flow": null,
      "grid_area": null,
      "grid_auto_columns": null,
      "grid_auto_flow": null,
      "grid_auto_rows": null,
      "grid_column": null,
      "grid_gap": null,
      "grid_row": null,
      "grid_template_areas": null,
      "grid_template_columns": null,
      "grid_template_rows": null,
      "height": null,
      "justify_content": null,
      "justify_items": null,
      "left": null,
      "margin": null,
      "max_height": null,
      "max_width": null,
      "min_height": null,
      "min_width": null,
      "object_fit": null,
      "object_position": null,
      "order": null,
      "overflow": null,
      "overflow_x": null,
      "overflow_y": null,
      "padding": null,
      "right": null,
      "top": null,
      "visibility": null,
      "width": null
     }
    },
    "9144fea46ae244ff8391cff4c9736e45": {
     "model_module": "@jupyter-widgets/base",
     "model_module_version": "1.2.0",
     "model_name": "LayoutModel",
     "state": {
      "_model_module": "@jupyter-widgets/base",
      "_model_module_version": "1.2.0",
      "_model_name": "LayoutModel",
      "_view_count": null,
      "_view_module": "@jupyter-widgets/base",
      "_view_module_version": "1.2.0",
      "_view_name": "LayoutView",
      "align_content": null,
      "align_items": null,
      "align_self": null,
      "border": null,
      "bottom": null,
      "display": null,
      "flex": null,
      "flex_flow": null,
      "grid_area": null,
      "grid_auto_columns": null,
      "grid_auto_flow": null,
      "grid_auto_rows": null,
      "grid_column": null,
      "grid_gap": null,
      "grid_row": null,
      "grid_template_areas": null,
      "grid_template_columns": null,
      "grid_template_rows": null,
      "height": null,
      "justify_content": null,
      "justify_items": null,
      "left": null,
      "margin": null,
      "max_height": null,
      "max_width": null,
      "min_height": null,
      "min_width": null,
      "object_fit": null,
      "object_position": null,
      "order": null,
      "overflow": null,
      "overflow_x": null,
      "overflow_y": null,
      "padding": null,
      "right": null,
      "top": null,
      "visibility": null,
      "width": null
     }
    },
    "a5cf5b829fdb48c5abe0704d4e968a6b": {
     "model_module": "@jupyter-widgets/base",
     "model_module_version": "1.2.0",
     "model_name": "LayoutModel",
     "state": {
      "_model_module": "@jupyter-widgets/base",
      "_model_module_version": "1.2.0",
      "_model_name": "LayoutModel",
      "_view_count": null,
      "_view_module": "@jupyter-widgets/base",
      "_view_module_version": "1.2.0",
      "_view_name": "LayoutView",
      "align_content": null,
      "align_items": null,
      "align_self": null,
      "border": null,
      "bottom": null,
      "display": null,
      "flex": null,
      "flex_flow": null,
      "grid_area": null,
      "grid_auto_columns": null,
      "grid_auto_flow": null,
      "grid_auto_rows": null,
      "grid_column": null,
      "grid_gap": null,
      "grid_row": null,
      "grid_template_areas": null,
      "grid_template_columns": null,
      "grid_template_rows": null,
      "height": null,
      "justify_content": null,
      "justify_items": null,
      "left": null,
      "margin": null,
      "max_height": null,
      "max_width": null,
      "min_height": null,
      "min_width": null,
      "object_fit": null,
      "object_position": null,
      "order": null,
      "overflow": null,
      "overflow_x": null,
      "overflow_y": null,
      "padding": null,
      "right": null,
      "top": null,
      "visibility": null,
      "width": null
     }
    },
    "a93eb26eadf04e278550795ec751ac23": {
     "model_module": "@jupyter-widgets/controls",
     "model_module_version": "1.5.0",
     "model_name": "HBoxModel",
     "state": {
      "_dom_classes": [],
      "_model_module": "@jupyter-widgets/controls",
      "_model_module_version": "1.5.0",
      "_model_name": "HBoxModel",
      "_view_count": null,
      "_view_module": "@jupyter-widgets/controls",
      "_view_module_version": "1.5.0",
      "_view_name": "HBoxView",
      "box_style": "",
      "children": [
       "IPY_MODEL_376bbeb5b14a4667a2cf6f8274958ba3",
       "IPY_MODEL_12bdf5d65cb6497581ef5b1255cbd7bb",
       "IPY_MODEL_5d180ba1bff9486e934209aba362759a"
      ],
      "layout": "IPY_MODEL_2828a51807bb4c97b38e191db7fbccfd"
     }
    },
    "c29322029bca4fdc97368969f467e4bb": {
     "model_module": "@jupyter-widgets/base",
     "model_module_version": "1.2.0",
     "model_name": "LayoutModel",
     "state": {
      "_model_module": "@jupyter-widgets/base",
      "_model_module_version": "1.2.0",
      "_model_name": "LayoutModel",
      "_view_count": null,
      "_view_module": "@jupyter-widgets/base",
      "_view_module_version": "1.2.0",
      "_view_name": "LayoutView",
      "align_content": null,
      "align_items": null,
      "align_self": null,
      "border": null,
      "bottom": null,
      "display": null,
      "flex": null,
      "flex_flow": null,
      "grid_area": null,
      "grid_auto_columns": null,
      "grid_auto_flow": null,
      "grid_auto_rows": null,
      "grid_column": null,
      "grid_gap": null,
      "grid_row": null,
      "grid_template_areas": null,
      "grid_template_columns": null,
      "grid_template_rows": null,
      "height": null,
      "justify_content": null,
      "justify_items": null,
      "left": null,
      "margin": null,
      "max_height": null,
      "max_width": null,
      "min_height": null,
      "min_width": null,
      "object_fit": null,
      "object_position": null,
      "order": null,
      "overflow": null,
      "overflow_x": null,
      "overflow_y": null,
      "padding": null,
      "right": null,
      "top": null,
      "visibility": null,
      "width": null
     }
    },
    "cb39074de2d442c294cb95f61e5babb9": {
     "model_module": "@jupyter-widgets/controls",
     "model_module_version": "1.5.0",
     "model_name": "DescriptionStyleModel",
     "state": {
      "_model_module": "@jupyter-widgets/controls",
      "_model_module_version": "1.5.0",
      "_model_name": "DescriptionStyleModel",
      "_view_count": null,
      "_view_module": "@jupyter-widgets/base",
      "_view_module_version": "1.2.0",
      "_view_name": "StyleView",
      "description_width": ""
     }
    },
    "d237745b11564e83b998697a5efad2b4": {
     "model_module": "@jupyter-widgets/base",
     "model_module_version": "1.2.0",
     "model_name": "LayoutModel",
     "state": {
      "_model_module": "@jupyter-widgets/base",
      "_model_module_version": "1.2.0",
      "_model_name": "LayoutModel",
      "_view_count": null,
      "_view_module": "@jupyter-widgets/base",
      "_view_module_version": "1.2.0",
      "_view_name": "LayoutView",
      "align_content": null,
      "align_items": null,
      "align_self": null,
      "border": null,
      "bottom": null,
      "display": null,
      "flex": null,
      "flex_flow": null,
      "grid_area": null,
      "grid_auto_columns": null,
      "grid_auto_flow": null,
      "grid_auto_rows": null,
      "grid_column": null,
      "grid_gap": null,
      "grid_row": null,
      "grid_template_areas": null,
      "grid_template_columns": null,
      "grid_template_rows": null,
      "height": null,
      "justify_content": null,
      "justify_items": null,
      "left": null,
      "margin": null,
      "max_height": null,
      "max_width": null,
      "min_height": null,
      "min_width": null,
      "object_fit": null,
      "object_position": null,
      "order": null,
      "overflow": null,
      "overflow_x": null,
      "overflow_y": null,
      "padding": null,
      "right": null,
      "top": null,
      "visibility": null,
      "width": "20px"
     }
    },
    "e98e755506a241b78b14ccdb5ad82aa7": {
     "model_module": "@jupyter-widgets/controls",
     "model_module_version": "1.5.0",
     "model_name": "DescriptionStyleModel",
     "state": {
      "_model_module": "@jupyter-widgets/controls",
      "_model_module_version": "1.5.0",
      "_model_name": "DescriptionStyleModel",
      "_view_count": null,
      "_view_module": "@jupyter-widgets/base",
      "_view_module_version": "1.2.0",
      "_view_name": "StyleView",
      "description_width": ""
     }
    },
    "f7ed2cad1bbc41f69e29d72c52e1787a": {
     "model_module": "@jupyter-widgets/base",
     "model_module_version": "1.2.0",
     "model_name": "LayoutModel",
     "state": {
      "_model_module": "@jupyter-widgets/base",
      "_model_module_version": "1.2.0",
      "_model_name": "LayoutModel",
      "_view_count": null,
      "_view_module": "@jupyter-widgets/base",
      "_view_module_version": "1.2.0",
      "_view_name": "LayoutView",
      "align_content": null,
      "align_items": null,
      "align_self": null,
      "border": null,
      "bottom": null,
      "display": null,
      "flex": null,
      "flex_flow": null,
      "grid_area": null,
      "grid_auto_columns": null,
      "grid_auto_flow": null,
      "grid_auto_rows": null,
      "grid_column": null,
      "grid_gap": null,
      "grid_row": null,
      "grid_template_areas": null,
      "grid_template_columns": null,
      "grid_template_rows": null,
      "height": null,
      "justify_content": null,
      "justify_items": null,
      "left": null,
      "margin": null,
      "max_height": null,
      "max_width": null,
      "min_height": null,
      "min_width": null,
      "object_fit": null,
      "object_position": null,
      "order": null,
      "overflow": null,
      "overflow_x": null,
      "overflow_y": null,
      "padding": null,
      "right": null,
      "top": null,
      "visibility": null,
      "width": null
     }
    }
   }
  }
 },
 "nbformat": 4,
 "nbformat_minor": 1
}
